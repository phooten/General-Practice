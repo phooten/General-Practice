{
 "cells": [
  {
   "cell_type": "code",
   "execution_count": 7,
   "metadata": {},
   "outputs": [
    {
     "name": "stdout",
     "output_type": "stream",
     "text": [
      "sqrtVarOverTime = 0.012598815766974242\n",
      "volOverSqrtTime = 0.01259881576697424\n",
      "Are they close? True\n"
     ]
    }
   ],
   "source": [
    "import numpy as np\n",
    "import pandas as pd\n",
    "# from perspective import psp\n",
    "import perspective as psp\n",
    "import datetime as dt\n",
    "\n",
    "\n",
    "vol = 0.2\n",
    "time = 1.\n",
    "\n",
    "# Black-Scholes ( ATMF Straddle )\n",
    "def straddlePricer( vol=0.2, time=1.0 ):\n",
    "    # Vc = Vp ~=\n",
    "    return 2. * ((1. / np.sqrt(2 * np.pi) ) * vol * np.sqrt(time))\n",
    "\n",
    "# Monte Carlo\n",
    "def straddlePricerMC(vol=0.2, time=1.0, mcPaths=100):\n",
    "    dailyVol = vol / np.sqrt( 252. )\n",
    "    resultSum = 0\n",
    "    for p in range( mcPaths ):\n",
    "        resultSum += np.abs( np.prod( ( 1 + np.random.normal( 0, dailyVol, int( round( time * 252 ) ) ) ) ) - 1 )\n",
    "    return resultSum / mcPaths\n",
    "\n",
    "# print(straddlePricer())\n",
    "# print(straddlePricerMC())\n",
    "\n",
    "\n",
    "# Comparing the two methods\n",
    "vol = 0.2\n",
    "var = vol ** 2\n",
    "sqrtVarOverTime = np.sqrt( var / 252 )\n",
    "volOverSqrtTime = vol / np.sqrt( 252 )\n",
    "valuesEqual = np.isclose( sqrtVarOverTime, volOverSqrtTime )\n",
    "print( f'sqrtVarOverTime = {sqrtVarOverTime}\\nvolOverSqrtTime = {volOverSqrtTime}\\nAre they close? {valuesEqual}' )\n",
    "\n"
   ]
  },
  {
   "cell_type": "code",
   "execution_count": 11,
   "metadata": {},
   "outputs": [
    {
     "ename": "TypeError",
     "evalue": "'module' object is not callable",
     "output_type": "error",
     "traceback": [
      "\u001b[0;31m---------------------------------------------------------------------------\u001b[0m",
      "\u001b[0;31mTypeError\u001b[0m                                 Traceback (most recent call last)",
      "\u001b[0;32m/var/folders/z3/klrx2plj3f51r24kg0lyk5700000gn/T/ipykernel_62204/59312613.py\u001b[0m in \u001b[0;36m<module>\u001b[0;34m\u001b[0m\n\u001b[1;32m      8\u001b[0m \u001b[0msimulatedAsset\u001b[0m \u001b[0;34m=\u001b[0m \u001b[0mpd\u001b[0m\u001b[0;34m.\u001b[0m\u001b[0mDataFrame\u001b[0m\u001b[0;34m(\u001b[0m \u001b[0mnp\u001b[0m\u001b[0;34m.\u001b[0m\u001b[0mrandom\u001b[0m\u001b[0;34m.\u001b[0m\u001b[0mnormal\u001b[0m\u001b[0;34m(\u001b[0m \u001b[0;36m0\u001b[0m\u001b[0;34m,\u001b[0m \u001b[0mdailyVol\u001b[0m\u001b[0;34m,\u001b[0m \u001b[0mtime\u001b[0m \u001b[0;34m*\u001b[0m \u001b[0;36m252\u001b[0m \u001b[0;34m)\u001b[0m \u001b[0;34m+\u001b[0m \u001b[0;36m1\u001b[0m\u001b[0;34m,\u001b[0m \u001b[0mcolumns\u001b[0m\u001b[0;34m=\u001b[0m\u001b[0;34m[\u001b[0m\u001b[0;34m'return'\u001b[0m\u001b[0;34m]\u001b[0m \u001b[0;34m)\u001b[0m\u001b[0;34m\u001b[0m\u001b[0;34m\u001b[0m\u001b[0m\n\u001b[1;32m      9\u001b[0m \u001b[0msimulatedAsset\u001b[0m\u001b[0;34m[\u001b[0m\u001b[0;34m'price'\u001b[0m\u001b[0;34m]\u001b[0m \u001b[0;34m=\u001b[0m \u001b[0;34m(\u001b[0m \u001b[0;36m1\u001b[0m \u001b[0;34m*\u001b[0m \u001b[0msimulatedAsset\u001b[0m\u001b[0;34m[\u001b[0m\u001b[0;34m'return'\u001b[0m\u001b[0;34m]\u001b[0m \u001b[0;34m)\u001b[0m\u001b[0;34m.\u001b[0m\u001b[0mcumprod\u001b[0m\u001b[0;34m(\u001b[0m\u001b[0;34m)\u001b[0m\u001b[0;34m\u001b[0m\u001b[0;34m\u001b[0m\u001b[0m\n\u001b[0;32m---> 10\u001b[0;31m \u001b[0mpsp\u001b[0m\u001b[0;34m(\u001b[0m \u001b[0msimulatedAsset\u001b[0m \u001b[0;34m)\u001b[0m\u001b[0;34m\u001b[0m\u001b[0;34m\u001b[0m\u001b[0m\n\u001b[0m",
      "\u001b[0;31mTypeError\u001b[0m: 'module' object is not callable"
     ]
    }
   ],
   "source": [
    "import pandas as pd\n",
    "import perspective\n",
    "# from perspective import psp\n",
    "time = 1\n",
    "nDays = time * 252\n",
    "dailyVol = vol / np.sqrt( 252. )\n",
    "\n",
    "simulatedAsset = pd.DataFrame( np.random.normal( 0, dailyVol, time * 252 ) + 1, columns=['return'] )\n",
    "simulatedAsset['price'] = ( 1 * simulatedAsset['return'] ).cumprod()\n",
    "psp( simulatedAsset )"
   ]
  }
 ],
 "metadata": {
  "interpreter": {
   "hash": "b0fa6594d8f4cbf19f97940f81e996739fb7646882a419484c72d19e05852a7e"
  },
  "kernelspec": {
   "display_name": "Python 3.9.7 64-bit",
   "name": "python3"
  },
  "language_info": {
   "codemirror_mode": {
    "name": "ipython",
    "version": 3
   },
   "file_extension": ".py",
   "mimetype": "text/x-python",
   "name": "python",
   "nbconvert_exporter": "python",
   "pygments_lexer": "ipython3",
   "version": "3.9.7"
  },
  "orig_nbformat": 4
 },
 "nbformat": 4,
 "nbformat_minor": 2
}
